{
 "cells": [
  {
   "metadata": {},
   "cell_type": "markdown",
   "source": "",
   "id": "a6b84f84714d55ce"
  },
  {
   "metadata": {
    "ExecuteTime": {
     "end_time": "2024-06-09T04:56:49.716332Z",
     "start_time": "2024-06-09T04:56:49.709771Z"
    }
   },
   "cell_type": "code",
   "source": [
    "import os\n",
    "\n",
    "pre_fix = '' # 文件夹路径\n",
    "\n",
    "\n",
    "\n",
    "def build_root(pre_fix):\n",
    "    root = {}\n",
    "    root_file_list = os.listdir(pre_fix)\n",
    "    for i in root_file_list:\n",
    "        # 判断是否是一个目录\n",
    "        if os.path.isdir(pre_fix + '/' + i):\n",
    "            root[i] = build_root(pre_fix + '/' + i)\n",
    "        else:\n",
    "            root[i] = []\n",
    "    return root"
   ],
   "id": "249e0c39b4ce857f",
   "outputs": [],
   "execution_count": 10
  },
  {
   "metadata": {
    "ExecuteTime": {
     "end_time": "2024-06-09T04:58:35.788093Z",
     "start_time": "2024-06-09T04:58:35.782249Z"
    }
   },
   "cell_type": "code",
   "source": "root = build_root(pre_fix)",
   "id": "a616faa7aaf11d0a",
   "outputs": [],
   "execution_count": 13
  },
  {
   "metadata": {
    "ExecuteTime": {
     "end_time": "2024-06-09T04:58:43.130018Z",
     "start_time": "2024-06-09T04:58:43.124192Z"
    }
   },
   "cell_type": "code",
   "source": "str(root)",
   "id": "f25723df31a1bb6d",
   "outputs": [
    {
     "data": {
      "text/plain": [
       "\"{'组会ppt': {'~$June6th 组会.pptx': [], '.DS_Store': [], '4月26日组会.pptx': [], '4月第一次组会 [自动保存].pptx': [], '5月10日组会.pptx': [], 'June6th 组会 .pptx': [], '5月25日组会.pptx': [], '四月第二次组会.pptx': []}, '杂': {'PURE-NIKR-Datasets-request-2.pdf': [], '报账.csv': [], 'Data Usage Protocol.pdf': [], '中山市项目未来探索.docx': [], 'MMPD_Release_Agreement.pdf': [], 'Dear Professor,.md': [], 'MMPD数据集请求.docx': [], '报账.numbers': [], '发送地址以及邮件内容.docx': [], '演示文稿2.pptx': []}, '实验记录': {'April': {'415stem_tokenizer_mlp.png': [], '4_15_two_layer_mas.md': [], '4_16_version3.md': [], '4_18_physformer_result.md': [], 'only_after_norm_no_change.png': [], '4_19_result_3.md': [], '4——16——last.md': [], '3_layertransformer_epoch60.png': [], '414_stem_tanh_epoch50.png': [], 'pure_5折413.png': [], '4_19result.md': [], '2024_4_15_w:0_MSA.md': [], '2024_4_15_MSA.md': [], '1_layertransformer_epoch60.png': [], '416_3kind_of_loss.md': [], '4_16_transformer_encdec_original.md': [], '416_after_norm.md': [], '4_19_2result.md': [], '414_stem_relu_epoch30.png': [], 'no_trainsformer_epoch15.png': [], '4_16_transformer_encdec_version2.md': [], 'rppg_pure_实验记录.xlsx': [], '4_20result.md': [], 'pure_5折_414.png': []}, '.DS_Store': [], 'June': {'.DS_Store': [], 'SOTA 6 1': {'MMPD': {'MMPD.md': []}, 'shuffle_tools.ipynb': [], '.DS_Store': [], 'INTRA_PURE': {'record.md': [], 'INTRA PURE.xlsx': []}, 'PURE_UBFC': {'record.md': [], 'PURE UBFC different split.xlsx': [], 'PURE_UBFC-rPPG_CzyModel_Epoch21_split_by_excel_row1.pth': []}, '6_3CZY_Model.py': [], 'UBFC_PURE': {'record.md': [], 'UBFC-rPPG_PURE_CzyModel_Epoch29.pth': [], 'UBFC_PURE.xlsx': [], '~$UBFC_PURE.xlsx': []}, '模型参数量和计算量统计.md': [], 'UBFC_INTRA_RESULT': {'intra_ubfc_different_split_eval.xlsx': [], 'record.md': []}}}, 'MAY': {'5月26日': {'MMPD.png': [], 'PURE初识划分存档': {'PURE_SizeW128_SizeH128_ClipLength160_DataTypeDiffNormalized_Standardized_DataAugNone_LabelTypeDiffNormalized_Crop_faceTrue_BackendHC_Large_boxTrue_Large_size1.5_Dyamic_DetFalse_det_len30_Median_face_boxFalse_0.0_0.8.csv': [], 'PURE_SizeW128_SizeH128_ClipLength160_DataTypeDiffNormalized_Standardized_DataAugNone_LabelTypeDiffNormalized_Crop_faceTrue_BackendHC_Large_boxTrue_Large_size1.5_Dyamic_DetFalse_det_len30_Median_face_boxFalse_0.0_1.0.csv': [], 'PURE_SizeW128_SizeH128_ClipLength160_DataTypeDiffNormalized_Standardized_DataAugNone_LabelTypeDiffNormalized_Crop_faceTrue_BackendHC_Large_boxTrue_Large_size1.5_Dyamic_DetFalse_det_len30_Median_face_boxFalse_0.8_1.0.csv': []}, '.DS_Store': [], 'SOTA.md': [], 'UBFC': {'尝试': {'UBFC-rPPG_PURE_CzyModel_Epoch41.pth': [], 'PURE_UBFC-rPPG_CzyModel_Epoch2.pth': []}, '.DS_Store': [], '最新的用scheduler': {'UBFC-rPPG_PURE_CzyModel_Epoch29.pth': [], 'PURE_UBFC-rPPG_CzyModel_Epoch2.pth': []}}, 'CzyModelTrainer.py': [], 'UBFC-rPPG_PURE_CzyModel_Epoch29.pth': [], 'CzyModel-2.py': [], '5 26 sota.md': []}, 'intra_pure_result.xlsx': [], '.DS_Store': [], '工作簿1.xlsx': [], 'SOTA代码 5月1日': {'metrics.py': [], 'ubfc-pure.md': [], 'pure - ubfc-rPPG.md': [], 'READEME.txt': [], 'CzyModelTrainer.py': [], 'main.py': [], 'CzyModel-2.py': []}, 'SOTA代码 5月2日': {'PURE——UBFC-rPPG.md': [], 'MMPD_test.md': [], '.DS_Store': [], 'CzyModelLoss.py': [], 'ubfc-rppg_pure.md': [], 'CzyModelTrainer.py': [], '截屏2024-05-05 16.42.59.png': []}, 'Track 2工作汇报.pdf': [], 'SOTA代码5月8日': {'PURE_SizeW128_SizeH128_ClipLength180_DataTypeDiffNormalized_Standardized_DataAugNone_LabelTypeDiffNormalized_Crop_faceTrue_BackendHC_Large_boxTrue_Large_size1.5_Dyamic_DetFalse_det_len30_Median_face_boxFalse_0.0_0.7.csv': [], 'PURE_UBFC-rPPG_CzyModel_FFT_BlandAltman_ScatterPlot.pdf': [], '5月8日.md': [], '第一次MMPD结果.png': [], '.DS_Store': [], 'UBFC-rPPG_SizeW128_SizeH128_ClipLength180_DataTypeDiffNormalized_Standardized_DataAugNone_LabelTypeDiffNormalized_Crop_faceTrue_BackendHC_Large_boxTrue_Large_size1.5_Dyamic_DetFalse_det_len30_Median_face_boxFalse_0.0_0.7.csv': [], 'PURE_UBFC-rPPG_CzyModel_Epoch8-2.pth': [], 'benchmark.md': [], 'UBFC-rPPG_SizeW128_SizeH128_ClipLength180_DataTypeDiffNormalized_Standardized_DataAugNone_LabelTypeDiffNormalized_Crop_faceTrue_BackendHC_Large_boxTrue_Large_size1.5_Dyamic_DetFalse_det_len30_Median_face_boxFalse_0.7_1.0.csv': [], 'CzyModelTrainer.py': [], 'UBFC-rPPG_PURE_CzyModel_FFT_BlandAltman_ScatterPlot.pdf': [], '截屏2024-05-09 11.10.42.png': [], 'UBFC-rPPG_PURE_CzyModel_Epoch5-2.pth': [], 'PURE_UBFC-rPPG_CzyModel_FFT_BlandAltman_DifferencePlot.pdf': [], '截屏2024-05-09 11.10.37.png': [], 'PURE_SizeW128_SizeH128_ClipLength180_DataTypeDiffNormalized_Standardized_DataAugNone_LabelTypeDiffNormalized_Crop_faceTrue_BackendHC_Large_boxTrue_Large_size1.5_Dyamic_DetFalse_det_len30_Median_face_boxFalse_0.7_1.0.csv': [], 'CzyModel-2.py': [], 'UBFC-rPPG_PURE_CzyModel_FFT_BlandAltman_DifferencePlot.pdf': []}, 'Track 2工作汇报.md': [], '5月13日': {'PURE-UBFC  VidoRPPGContrast block = 15.md': [], 'UBFC-rPPG_PURE_CzyModel_Epoch8.pth': [], '5月13日sota.md': [], 'CzyModel.py': [], 'PURE_UBFC-rPPG_CzyModel_Epoch6.pth': []}, '5月17日 kaggle竞赛一些重要文件': {'file_tools-2.ipynb': [], 'competition_notebook.ipynb': [], 'modified_df-4.csv': [], 'modified_df-5.csv': [], 'modified_df-2.csv': [], 'Untitled-2.ipynb': [], 'modified_df-3.csv': [], 'prediction.csv': [], 'modified_df.csv': [], 'prediction-2.csv': [], 'prediction-3.csv': []}}}, '.DS_Store': [], '账单': {'4-5月autodl账单.csv': []}}\""
      ]
     },
     "execution_count": 14,
     "metadata": {},
     "output_type": "execute_result"
    }
   ],
   "execution_count": 14
  },
  {
   "cell_type": "code",
   "id": "initial_id",
   "metadata": {
    "collapsed": true,
    "ExecuteTime": {
     "end_time": "2024-06-09T05:00:51.956948Z",
     "start_time": "2024-06-09T05:00:22.322981Z"
    }
   },
   "source": [
    "import ollama\n",
    "response = ollama.chat(model='llama3', messages=[\n",
    "  {\n",
    "    'role': 'user',\n",
    "    'content': f'Please analyze this file list: {str(root)}',\n",
    "      \n",
    "  },\n",
    "])\n",
    "print(response['message']['content'])"
   ],
   "outputs": [
    {
     "name": "stdout",
     "output_type": "stream",
     "text": [
      "This file list appears to be a collection of files and folders organized by categories. Each category is represented as a key in the dictionary, with values being sub-dictionaries or lists.\n",
      "\n",
      "Here's a high-level analysis of the structure:\n",
      "\n",
      "1. The top-level dictionary has three main categories: \"组会ppt\", \"杂\", and \"实验记录\". These categories seem to be related to meetings, miscellaneous files, and experimental records, respectively.\n",
      "2. Within each category, there are sub-dictionaries or lists containing specific files or folders. For example, under the \"组会ppt\" category, there is a file called \"~$June 6th 组会 ppt\". Under the \"杂\" category, there is a folder called \"SOTA代码 5月2日\" with several files inside.\n",
      "3. The file names and folder names are mostly in Chinese, which suggests that this collection of files is likely related to a specific project or organization.\n",
      "\n",
      "Some notable observations:\n",
      "\n",
      "* There are many files with dates in the format \"YYYY-MM-DD\", which could indicate when certain meetings or events took place.\n",
      "* Some files have titles in English, such as \"Track 2工作汇报\" and \"CzyModelTrainer.py\". This suggests that there may be some international collaboration or influence involved.\n",
      "* There are several files with names starting with \"SOTA代码\", which could indicate a focus on developing software tools for machine learning or AI-related projects.\n",
      "\n",
      "Overall, this file list appears to be a collection of files and folders related to meetings, experimental records, and software development, possibly from an academic or research setting.\n"
     ]
    }
   ],
   "execution_count": 16
  },
  {
   "metadata": {},
   "cell_type": "code",
   "outputs": [],
   "execution_count": null,
   "source": "",
   "id": "25bc55506593159f"
  }
 ],
 "metadata": {
  "kernelspec": {
   "display_name": "Python 3",
   "language": "python",
   "name": "python3"
  },
  "language_info": {
   "codemirror_mode": {
    "name": "ipython",
    "version": 2
   },
   "file_extension": ".py",
   "mimetype": "text/x-python",
   "name": "python",
   "nbconvert_exporter": "python",
   "pygments_lexer": "ipython2",
   "version": "2.7.6"
  }
 },
 "nbformat": 4,
 "nbformat_minor": 5
}
